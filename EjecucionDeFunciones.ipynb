{
 "cells": [
  {
   "cell_type": "code",
   "execution_count": 1,
   "metadata": {},
   "outputs": [
    {
     "name": "stdout",
     "output_type": "stream",
     "text": [
      "Has llamado a la función 1\n",
      "8\n"
     ]
    }
   ],
   "source": [
    "from FuncionesExternas import *\n",
    "\n",
    "funcion1()\n",
    "Q=input('Introduzca un dato: ')\n",
    "W=input('Introduzca otro dato: ')\n",
    "print(funcion2(Q,W))\n"
   ]
  },
  {
   "cell_type": "code",
   "execution_count": 3,
   "metadata": {},
   "outputs": [
    {
     "name": "stdout",
     "output_type": "stream",
     "text": [
      "Has llamado a la función 1\n",
      "9\n"
     ]
    }
   ],
   "source": [
    "import FuncionesExternas as F\n",
    "\n",
    "F.funcion1()\n",
    "Q=input('Introduzca un dato: ')\n",
    "W=input('Introduzca otro dato: ')\n",
    "\n",
    "print(F.funcion2(Q,W))"
   ]
  },
  {
   "cell_type": "code",
   "execution_count": 5,
   "metadata": {},
   "outputs": [
    {
     "name": "stdout",
     "output_type": "stream",
     "text": [
      "Has llamado a la función 1\n",
      "9\n"
     ]
    }
   ],
   "source": [
    "#si no está en la misma carpeta importamos sys y lo buscamos con el path\n",
    "\n",
    "import sys \n",
    "sys.path.append('D:/ML_PYTHON')\n",
    "\n",
    "funcion1()\n",
    "Q=input('Introduzca un dato: ')\n",
    "W=input('Introduzca otro dato: ')\n",
    "print(funcion2(Q,W))"
   ]
  },
  {
   "cell_type": "code",
   "execution_count": 13,
   "metadata": {},
   "outputs": [
    {
     "name": "stdout",
     "output_type": "stream",
     "text": [
      "<class '_io.TextIOWrapper'>\n",
      "Hola Archivo\n",
      "A ver si esto funciona\n",
      "Por aquí añadimos esto\n"
     ]
    }
   ],
   "source": [
    "#wt si el archivo no existe lo crea y si existe lo sobreescribe\n",
    "ArchivoSalida=open('Salida.txt','wt')\n",
    "\n",
    "ArchivoSalida.write(str(type(ArchivoSalida)))\n",
    "ArchivoSalida.write(\"\\nHola Archivo\")\n",
    "ArchivoSalida.write(\"\\nA ver si esto funciona\")\n",
    "Texto=\"\\nPor aquí añadimos esto\"\n",
    "ArchivoSalida.write(Texto)\n",
    "ArchivoSalida.close()\n",
    "\n",
    "#rt para leer solo\n",
    "ArchivoEntrada=open('Salida.txt','rt')\n",
    "print(ArchivoEntrada.read())\n",
    "ArchivoEntrada.close()\n"
   ]
  },
  {
   "cell_type": "code",
   "execution_count": 17,
   "metadata": {},
   "outputs": [
    {
     "name": "stdout",
     "output_type": "stream",
     "text": [
      "apper'>\n",
      "Hola Archivo\n",
      "A ver si esto funciona\n",
      "Por aquí añadimos esto\n",
      "<class '_io.TextIOWrapper'>\n",
      "Hola Archivo\n",
      "\n",
      "A ver si esto funciona\n",
      "Por aquí añadimos esto\n",
      "91\n"
     ]
    }
   ],
   "source": [
    "\n",
    "Archivo=open('Salida.txt', 'rt')\n",
    "\n",
    "#seek para saltar a la posición dentro del archivo\n",
    "Archivo.seek(20)\n",
    "print(Archivo.read())\n",
    "\n",
    "#volvemos al principio del archivo\n",
    "Archivo.seek(0)\n",
    "\n",
    "\n",
    "#leer e imprimir hasta el caracter 40\n",
    "print(Archivo.read(40))\n",
    "\n",
    "#leer e imprimir desde el 40 hasta el final \n",
    "print(Archivo.read())\n",
    "\n",
    "#posicion/offset del ultimo caracter con tell \n",
    "print(Archivo.tell())\n",
    "Archivo.close()\n"
   ]
  },
  {
   "cell_type": "code",
   "execution_count": 24,
   "metadata": {},
   "outputs": [
    {
     "name": "stdout",
     "output_type": "stream",
     "text": [
      "\n",
      "Por aquí añadimos esto\n",
      "prueba1\n",
      "prueba2\n",
      "prueba3\n"
     ]
    }
   ],
   "source": [
    "#otra forma de abrir el archivo\n",
    "\n",
    "Texto=\"\\nPor aquí añadimos esto\"\n",
    "Archivo=open('Archivo.txt', 'wt')\n",
    "Archivo.write(Texto)\n",
    "Texto=\"\\nprueba1\"\n",
    "Archivo.write(Texto)\n",
    "Texto=\"\\nprueba2\"\n",
    "Archivo.write(Texto)\n",
    "Texto=\"\\nprueba3\"\n",
    "Archivo.write(Texto)\n",
    "Archivo.close()\n",
    "\n",
    "#Archivo=open('Salida.txt','rt')\n",
    "#print(Archivo.read())\n",
    "with open(\"Archivo.txt\", \"rt\") as Archivo:\n",
    "    print(Archivo.read())\n",
    "\n",
    "Archivo.close()"
   ]
  },
  {
   "cell_type": "code",
   "execution_count": 26,
   "metadata": {},
   "outputs": [
    {
     "name": "stdout",
     "output_type": "stream",
     "text": [
      "['casa', 'coche', 'manzana', (2+3j), 4]\n"
     ]
    }
   ],
   "source": [
    "import pickle \n",
    "\n",
    "#representaciones serializadas: es el proceso mediante el cual una jerarquía de objetos de Python se convierte en una secuencia de bytes \n",
    "Lista=['casa','coche','manzana', 2+3j, 4]\n",
    "\n",
    "#wb para pickle\n",
    "Archivo=open('ArchivoPickle.txt', 'wb')\n",
    "\n",
    "#para escribir el archivo pickle\n",
    "pickle.dump(Lista,Archivo)\n",
    "Archivo.close()\n",
    "\n",
    "#rb para leer el archivo pickle\n",
    "Archivo=open('ArchivoPickle.txt', 'rb')\n",
    "CargarLista=pickle.load(Archivo)\n",
    "print(CargarLista)\n",
    "Archivo.close()\n"
   ]
  },
  {
   "cell_type": "code",
   "execution_count": 51,
   "metadata": {},
   "outputs": [
    {
     "name": "stdout",
     "output_type": "stream",
     "text": [
      "   1         1                   1                             1\n",
      "   2         4                   8                            16\n",
      "   3         9                  27                            81\n",
      "   4        16                  64                           256\n",
      "   5        25                 125                           625\n",
      "   6        36                 216                          1296\n",
      "   7        49                 343                          2401\n",
      "   8        64                 512                          4096\n",
      "   9        81                 729                          6561\n"
     ]
    }
   ],
   "source": [
    "#como escribir tablas en python\n",
    "\n",
    "#cada elemento entre llaves es una columna y format() le da el formato para verla bien\n",
    "for x in range(1,10):\n",
    "    print('{0:4d}{1:10d}{2:20d}{3:30d}'.format(x, x*x, x*x*x, x*x*x*x))"
   ]
  },
  {
   "attachments": {},
   "cell_type": "markdown",
   "metadata": {},
   "source": [
    "####OOP####\n",
    "clase: instances\n",
    "herencia: comparten propiedades los objetos de una clase\n",
    "objeto: instancia de una clase\n",
    "metodo: comportamiento asociado al objeto \n",
    "\n",
    "propiedades fundamentaleS: \n",
    "- abstraccion\n",
    "- encapsulamiento\n",
    "- modularidad \n",
    "- principio de ocultación \n",
    "- polimorfismo\n",
    "- herencia\n",
    "- recolección de basura "
   ]
  },
  {
   "cell_type": "code",
   "execution_count": null,
   "metadata": {},
   "outputs": [],
   "source": []
  }
 ],
 "metadata": {
  "kernelspec": {
   "display_name": "base",
   "language": "python",
   "name": "python3"
  },
  "language_info": {
   "codemirror_mode": {
    "name": "ipython",
    "version": 3
   },
   "file_extension": ".py",
   "mimetype": "text/x-python",
   "name": "python",
   "nbconvert_exporter": "python",
   "pygments_lexer": "ipython3",
   "version": "3.10.9"
  },
  "orig_nbformat": 4
 },
 "nbformat": 4,
 "nbformat_minor": 2
}
